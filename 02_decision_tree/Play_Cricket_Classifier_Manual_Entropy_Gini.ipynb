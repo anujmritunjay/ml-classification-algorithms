{
 "cells": [
  {
   "cell_type": "code",
   "execution_count": 2,
   "id": "58b1170c-53ac-4070-a7c2-92958ca3e84c",
   "metadata": {},
   "outputs": [],
   "source": [
    "import math\n",
    "from collections import Counter, defaultdict"
   ]
  },
  {
   "cell_type": "code",
   "execution_count": 3,
   "id": "f1e7aed1-27f2-4ce3-bb88-c4a5b7139681",
   "metadata": {},
   "outputs": [],
   "source": [
    "data = [\n",
    "    {'Outlook': 'Sunny', 'Temperature': 'Hot', 'Humidity': 'High', 'Windy': False, 'Play': 'No'},\n",
    "    {'Outlook': 'Sunny', 'Temperature': 'Hot', 'Humidity': 'High', 'Windy': True,  'Play': 'No'},\n",
    "    {'Outlook': 'Overcast', 'Temperature': 'Hot', 'Humidity': 'High', 'Windy': False, 'Play': 'Yes'},\n",
    "    {'Outlook': 'Rainy', 'Temperature': 'Mild', 'Humidity': 'High', 'Windy': False, 'Play': 'Yes'},\n",
    "    {'Outlook': 'Rainy', 'Temperature': 'Cool', 'Humidity': 'Normal', 'Windy': False, 'Play': 'Yes'},\n",
    "    {'Outlook': 'Rainy', 'Temperature': 'Cool', 'Humidity': 'Normal', 'Windy': True,  'Play': 'No'},\n",
    "    {'Outlook': 'Overcast', 'Temperature': 'Cool', 'Humidity': 'Normal', 'Windy': True,  'Play': 'Yes'},\n",
    "    {'Outlook': 'Sunny', 'Temperature': 'Mild', 'Humidity': 'High', 'Windy': False, 'Play': 'No'},\n",
    "    {'Outlook': 'Sunny', 'Temperature': 'Cool', 'Humidity': 'Normal', 'Windy': False, 'Play': 'Yes'},\n",
    "    {'Outlook': 'Rainy', 'Temperature': 'Mild', 'Humidity': 'Normal', 'Windy': False, 'Play': 'Yes'},\n",
    "    {'Outlook': 'Sunny', 'Temperature': 'Mild', 'Humidity': 'Normal', 'Windy': True,  'Play': 'Yes'},\n",
    "    {'Outlook': 'Overcast', 'Temperature': 'Mild', 'Humidity': 'High', 'Windy': True,  'Play': 'Yes'},\n",
    "    {'Outlook': 'Overcast', 'Temperature': 'Hot', 'Humidity': 'Normal', 'Windy': False, 'Play': 'Yes'},\n",
    "    {'Outlook': 'Rainy', 'Temperature': 'Mild', 'Humidity': 'High', 'Windy': True,  'Play': 'No'},\n",
    "]"
   ]
  },
  {
   "cell_type": "code",
   "execution_count": 4,
   "id": "4b1cf7d3-5f15-4416-b069-d3f1b575e6b3",
   "metadata": {},
   "outputs": [],
   "source": [
    "def entropy(data_subset):\n",
    "    label_count = Counter(item['Play'] for item in data_subset)\n",
    "    total = len(data_subset)\n",
    "    ent = 0.0\n",
    "    for count in label_count.values():\n",
    "        p = count / total\n",
    "        ent -= p * math.log2(p)\n",
    "    return ent"
   ]
  },
  {
   "cell_type": "code",
   "execution_count": 5,
   "id": "eabafee3-9130-41aa-89b1-27adab8ff31d",
   "metadata": {},
   "outputs": [],
   "source": [
    "def information_gain(data, featrue):\n",
    "    total_entropy = entropy(data)\n",
    "    feature_values = set(item[featrue] for item in data)\n",
    "    weighted_entropy = 0.0\n",
    "\n",
    "    for value in feature_values:\n",
    "        subset = [item for item in data if item[feature] == value]\n",
    "        weighted_entropy += (len(subset) / len(data)) * entropy(subset)\n",
    "    gain = total_entropy - weighted_entropy\n",
    "    return gain\n",
    "        "
   ]
  },
  {
   "cell_type": "code",
   "execution_count": 7,
   "id": "d9b3f415-60f9-45bb-bb4f-af4c4604d436",
   "metadata": {},
   "outputs": [
    {
     "name": "stdout",
     "output_type": "stream",
     "text": [
      "Information Gain for each feature:\n",
      "Outlook: 0.2467\n",
      "Temperature: 0.0292\n",
      "Humidity: 0.1518\n",
      "Windy: 0.0481\n"
     ]
    }
   ],
   "source": [
    "features = ['Outlook', 'Temperature', 'Humidity', 'Windy']\n",
    "\n",
    "print(\"Information Gain for each feature:\")\n",
    "for feature in features:\n",
    "    gain = information_gain(data, feature)\n",
    "    print(f\"{feature}: {gain:.4f}\")"
   ]
  },
  {
   "cell_type": "code",
   "execution_count": 8,
   "id": "f681bb56-4a24-4ea4-a065-1f2f31f5c9ee",
   "metadata": {},
   "outputs": [
    {
     "name": "stdout",
     "output_type": "stream",
     "text": [
      "\n",
      "Best feature to split on: Outlook\n"
     ]
    }
   ],
   "source": [
    "def best_feature_to_split(data, features):\n",
    "    best_gain = -1\n",
    "    best_feature = None\n",
    "    for feature in features:\n",
    "        gain = information_gain(data, feature)\n",
    "        if gain > best_gain:\n",
    "            best_gain = gain\n",
    "            best_feature = feature\n",
    "    return best_feature\n",
    "\n",
    "best = best_feature_to_split(data, features)\n",
    "print(f\"\\nBest feature to split on: {best}\")"
   ]
  },
  {
   "cell_type": "code",
   "execution_count": 9,
   "id": "4945dc96-7b24-4354-835b-369268e9570e",
   "metadata": {},
   "outputs": [],
   "source": [
    "def split_data(data, feature):\n",
    "    splits = defaultdict(list)\n",
    "    for item in data:\n",
    "        splits[item[feature]].append(item)\n",
    "    return splits"
   ]
  },
  {
   "cell_type": "code",
   "execution_count": 10,
   "id": "8e04cd27-f22b-4167-ae3b-e03eda4c9fbd",
   "metadata": {},
   "outputs": [
    {
     "name": "stdout",
     "output_type": "stream",
     "text": [
      "\n",
      "Data splits based on Outlook:\n",
      "Sunny: ['No', 'No', 'No', 'Yes', 'Yes']\n",
      "Overcast: ['Yes', 'Yes', 'Yes', 'Yes']\n",
      "Rainy: ['Yes', 'Yes', 'No', 'Yes', 'No']\n"
     ]
    }
   ],
   "source": [
    "splits = split_data(data, best)\n",
    "print(\"\\nData splits based on Outlook:\")\n",
    "for k, v in splits.items():\n",
    "    plays = [item['Play'] for item in v]\n",
    "    print(f\"{k}: {plays}\")"
   ]
  },
  {
   "cell_type": "code",
   "execution_count": 11,
   "id": "007e8e4e-cc51-4d8b-82da-154a994fdbbf",
   "metadata": {},
   "outputs": [],
   "source": [
    "def predict(instance, tree):\n",
    "    feature = tree['feature']\n",
    "    if instance[feature] in tree['nodes']:\n",
    "        return tree['nodes'][instance[feature]]\n",
    "    else:\n",
    "        return None"
   ]
  },
  {
   "cell_type": "code",
   "execution_count": 12,
   "id": "2de55eaf-ae7c-4f07-a2e4-86fc0416b92d",
   "metadata": {},
   "outputs": [],
   "source": [
    "def majority_class(data_subset):\n",
    "    labels = [item['Play'] for item in data_subset]\n",
    "    return Counter(labels).most_common(1)[0][0]\n",
    "\n",
    "tree = {\n",
    "    'feature': best,\n",
    "    'nodes': {k: majority_class(v) for k, v in splits.items()}\n",
    "}"
   ]
  },
  {
   "cell_type": "code",
   "execution_count": 13,
   "id": "0807b292-69eb-4da0-8057-e75edf541bdb",
   "metadata": {},
   "outputs": [
    {
     "name": "stdout",
     "output_type": "stream",
     "text": [
      "\n",
      "Decision tree (one-level):\n",
      "{'feature': 'Outlook', 'nodes': {'Sunny': 'No', 'Overcast': 'Yes', 'Rainy': 'Yes'}}\n"
     ]
    }
   ],
   "source": [
    "print(\"\\nDecision tree (one-level):\")\n",
    "print(tree)"
   ]
  },
  {
   "cell_type": "code",
   "execution_count": 14,
   "id": "062272ed-0585-4abe-8375-2030698522b9",
   "metadata": {},
   "outputs": [],
   "source": [
    "test_instances = [\n",
    "    {'Outlook': 'Sunny', 'Temperature': 'Hot', 'Humidity': 'High', 'Windy': False},\n",
    "    {'Outlook': 'Rainy', 'Temperature': 'Cool', 'Humidity': 'Normal', 'Windy': True},\n",
    "    {'Outlook': 'Overcast', 'Temperature': 'Mild', 'Humidity': 'High', 'Windy': False},\n",
    "]\n"
   ]
  },
  {
   "cell_type": "code",
   "execution_count": 15,
   "id": "f60a9fba-aab7-4e87-ac09-25cc54f64ef0",
   "metadata": {},
   "outputs": [
    {
     "name": "stdout",
     "output_type": "stream",
     "text": [
      "\n",
      "Predictions:\n",
      "Instance 1: No\n",
      "Instance 2: Yes\n",
      "Instance 3: Yes\n"
     ]
    }
   ],
   "source": [
    "print(\"\\nPredictions:\")\n",
    "for i, instance in enumerate(test_instances):\n",
    "    pred = predict(instance, tree)\n",
    "    print(f\"Instance {i+1}: {pred}\")"
   ]
  },
  {
   "cell_type": "code",
   "execution_count": 16,
   "id": "21257eba-1ca2-44a8-a76c-0f4cef8ea5d2",
   "metadata": {},
   "outputs": [
    {
     "name": "stdout",
     "output_type": "stream",
     "text": [
      "\n",
      "Training accuracy with one-level tree: 0.7143\n"
     ]
    }
   ],
   "source": [
    "correct = 0\n",
    "for item in data:\n",
    "    pred = predict(item, tree)\n",
    "    if pred == item['Play']:\n",
    "        correct += 1\n",
    "\n",
    "accuracy = correct / len(data)\n",
    "print(f\"\\nTraining accuracy with one-level tree: {accuracy:.4f}\")\n"
   ]
  },
  {
   "cell_type": "code",
   "execution_count": null,
   "id": "20c12f75-170f-41e2-af30-4efc8066735b",
   "metadata": {},
   "outputs": [],
   "source": []
  }
 ],
 "metadata": {
  "kernelspec": {
   "display_name": "Python 3 (ipykernel)",
   "language": "python",
   "name": "python3"
  },
  "language_info": {
   "codemirror_mode": {
    "name": "ipython",
    "version": 3
   },
   "file_extension": ".py",
   "mimetype": "text/x-python",
   "name": "python",
   "nbconvert_exporter": "python",
   "pygments_lexer": "ipython3",
   "version": "3.13.2"
  }
 },
 "nbformat": 4,
 "nbformat_minor": 5
}
